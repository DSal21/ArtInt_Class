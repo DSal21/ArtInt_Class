{
  "nbformat": 4,
  "nbformat_minor": 0,
  "metadata": {
    "colab": {
      "provenance": [],
      "collapsed_sections": []
    },
    "kernelspec": {
      "name": "python3",
      "display_name": "Python 3"
    },
    "language_info": {
      "name": "python"
    }
  },
  "cells": [
    {
      "cell_type": "markdown",
      "source": [
        "## **A2: Python Exercises**\n",
        "Student: Daniel Alberto Salas López\\\n",
        "Student number: 1896141\\\n",
        "Class time: Thursdays N4-N6"
      ],
      "metadata": {
        "id": "N3aQDUAC3rkg"
      }
    },
    {
      "cell_type": "markdown",
      "source": [
        "**First Exercise**\\\n",
        "Create a Python script where the user is going to be asked for the name. After that, the program will greet the user with the given name. Only exception: the script will not greet the user if the given name is \"Ana\", \"John\" or \"Peter\"."
      ],
      "metadata": {
        "id": "61M252F54Nw7"
      }
    },
    {
      "cell_type": "code",
      "source": [
        "name = input()\n",
        "if (name == 'Ana' or name == 'John' or name == 'Peter'):\n",
        "  print('Invalid name')\n",
        "else:\n",
        "  print('Hello, ' + name + '!')"
      ],
      "metadata": {
        "colab": {
          "base_uri": "https://localhost:8080/"
        },
        "id": "CBzvjYcp4tvq",
        "outputId": "3df99b9b-d480-4332-b339-aae85aca3385"
      },
      "execution_count": 145,
      "outputs": [
        {
          "output_type": "stream",
          "name": "stdout",
          "text": [
            "Daniel\n",
            "Hello, Daniel!\n"
          ]
        }
      ]
    },
    {
      "cell_type": "markdown",
      "source": [
        "**Second exercise**\\\n",
        "Create a function in a Python script that returns (print) the last element of a given list, reverts the order of the list and finally returns (print) the reverted list."
      ],
      "metadata": {
        "id": "JGKqt9-J5Myc"
      }
    },
    {
      "cell_type": "code",
      "source": [
        "def listReverse(given_list):\n",
        "  print(given_list[-1])\n",
        "  reverted_list = []\n",
        "  count = 0\n",
        "  for element in given_list:\n",
        "    reverted_list.insert(0, given_list[count])\n",
        "    count += 1\n",
        "  print(reverted_list)\n",
        "\n",
        "subjects = ['Artificial Intelligence', 'Signal Processing', 'Image processing', 'Metrology']\n",
        "listReverse(subjects)"
      ],
      "metadata": {
        "colab": {
          "base_uri": "https://localhost:8080/"
        },
        "id": "Ico8cMCj5blx",
        "outputId": "a66fb854-8d9b-49ac-a502-1cb17e61899d"
      },
      "execution_count": 146,
      "outputs": [
        {
          "output_type": "stream",
          "name": "stdout",
          "text": [
            "Metrology\n",
            "['Metrology', 'Image processing', 'Signal Processing', 'Artificial Intelligence']\n"
          ]
        }
      ]
    },
    {
      "cell_type": "markdown",
      "source": [
        "**Third exercise**\\\n",
        "Create a function in a Python script that takes a list of strings as input and then it prints, line by line, the whole list in a rectangular shape. E.g., the list could be ['Hi', 'my', 'name', 'is', 'John', 'Doe'] and the final result is: \n",
        "\n",
        "\n",
        "```\n",
        "********** \n",
        "* Hi     * \n",
        "* my     *\n",
        "* name   * \n",
        "* is     * \n",
        "* John   * \n",
        "* Doe    *\n",
        "**********\n",
        "```\n",
        "\n",
        "\n",
        "\n"
      ],
      "metadata": {
        "id": "uBZDFNKk9751"
      }
    },
    {
      "cell_type": "code",
      "source": [
        "def squaredMessage(listOfStrings):\n",
        "  sentences = ['**********']\n",
        "  #Add each line to the 'sentences' list\n",
        "  for element in listOfStrings:\n",
        "    sentences.append('*' + element)\n",
        "  sentences.append('**********')\n",
        "  \n",
        "  #Add the necessary space so every line has the same length\n",
        "  for i in range(0, len(sentences) - 1, 1):\n",
        "    while len(sentences[i]) < 10:\n",
        "      sentences[i] += ' '\n",
        "      if len(sentences[i]) == 9:\n",
        "        sentences[i]+= '*'\n",
        "\n",
        "  #Print each line of the message\n",
        "  for sentence in sentences:\n",
        "    print(sentence)\n",
        "\n",
        "#Testing the function \n",
        "message = ['Hello', 'I\\'m', 'Daniel', 'and', 'this', 'is', 'my', 'message']\n",
        "squaredMessage(message)\n",
        "\n",
        "#This function only works with lines under 10 characters long and throws a 10-character wide rectangle"
      ],
      "metadata": {
        "colab": {
          "base_uri": "https://localhost:8080/"
        },
        "id": "8Gr2nv33-jU8",
        "outputId": "989b1da0-7cca-4f7b-b53a-169394493de8"
      },
      "execution_count": 147,
      "outputs": [
        {
          "output_type": "stream",
          "name": "stdout",
          "text": [
            "**********\n",
            "*Hello   *\n",
            "*I'm     *\n",
            "*Daniel  *\n",
            "*and     *\n",
            "*this    *\n",
            "*is      *\n",
            "*my      *\n",
            "*message *\n",
            "**********\n"
          ]
        }
      ]
    }
  ]
}